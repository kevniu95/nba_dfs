{
 "cells": [
  {
   "cell_type": "code",
   "execution_count": null,
   "metadata": {},
   "outputs": [],
   "source": []
  },
  {
   "cell_type": "code",
   "execution_count": 7,
   "metadata": {},
   "outputs": [
    {
     "ename": "ImportError",
     "evalue": "attempted relative import with no known parent package",
     "output_type": "error",
     "traceback": [
      "\u001b[0;31m---------------------------------------------------------------------------\u001b[0m",
      "\u001b[0;31mImportError\u001b[0m                               Traceback (most recent call last)",
      "\u001b[1;32m/Users/kniu91/Documents/kevins_folders/Projects/nba_dfs/src/analysis.ipynb Cell 2\u001b[0m line \u001b[0;36m6\n\u001b[1;32m      <a href='vscode-notebook-cell:/Users/kniu91/Documents/kevins_folders/Projects/nba_dfs/src/analysis.ipynb#W0sZmlsZQ%3D%3D?line=2'>3</a>\u001b[0m path \u001b[39m=\u001b[39m pathlib\u001b[39m.\u001b[39mPath(os\u001b[39m.\u001b[39mpath\u001b[39m.\u001b[39mabspath(\u001b[39m'\u001b[39m\u001b[39m'\u001b[39m))\u001b[39m.\u001b[39mparent\u001b[39m.\u001b[39mresolve()\n\u001b[1;32m      <a href='vscode-notebook-cell:/Users/kniu91/Documents/kevins_folders/Projects/nba_dfs/src/analysis.ipynb#W0sZmlsZQ%3D%3D?line=3'>4</a>\u001b[0m os\u001b[39m.\u001b[39mchdir(path)\n\u001b[0;32m----> <a href='vscode-notebook-cell:/Users/kniu91/Documents/kevins_folders/Projects/nba_dfs/src/analysis.ipynb#W0sZmlsZQ%3D%3D?line=5'>6</a>\u001b[0m \u001b[39mfrom\u001b[39;00m \u001b[39mdataExtract\u001b[39;00m \u001b[39mimport\u001b[39;00m \u001b[39m*\u001b[39m\n",
      "File \u001b[0;32m~/Documents/kevins_folders/Projects/nba_dfs/src/dataExtract.py:3\u001b[0m\n\u001b[1;32m      1\u001b[0m \u001b[39mimport\u001b[39;00m \u001b[39mos\u001b[39;00m\n\u001b[1;32m      2\u001b[0m \u001b[39mimport\u001b[39;00m \u001b[39mpathlib\u001b[39;00m\n\u001b[0;32m----> 3\u001b[0m \u001b[39mfrom\u001b[39;00m \u001b[39m.\u001b[39;00m\u001b[39mdataImport\u001b[39;00m \u001b[39mimport\u001b[39;00m initYearDict\n\u001b[1;32m      4\u001b[0m \u001b[39mimport\u001b[39;00m \u001b[39mpandas\u001b[39;00m \u001b[39mas\u001b[39;00m \u001b[39mpd\u001b[39;00m\n\u001b[1;32m      5\u001b[0m \u001b[39mfrom\u001b[39;00m \u001b[39mtyping\u001b[39;00m \u001b[39mimport\u001b[39;00m Dict, Any, Set\n",
      "\u001b[0;31mImportError\u001b[0m: attempted relative import with no known parent package"
     ]
    }
   ],
   "source": [
    "import pathlib\n",
    "import os\n",
    "path = pathlib.Path(os.path.abspath('')).parent.resolve()\n",
    "os.chdir(path)\n",
    "os.chdir(path)\n",
    "import dataExtract\n",
    "# from dataExtract import *"
   ]
  },
  {
   "cell_type": "code",
   "execution_count": 1,
   "metadata": {},
   "outputs": [
    {
     "ename": "NameError",
     "evalue": "name 'loadFrames' is not defined",
     "output_type": "error",
     "traceback": [
      "\u001b[0;31m---------------------------------------------------------------------------\u001b[0m",
      "\u001b[0;31mNameError\u001b[0m                                 Traceback (most recent call last)",
      "\u001b[1;32m/Users/kniu91/Documents/kevins_folders/Projects/nba_dfs/src/analysis.ipynb Cell 2\u001b[0m line \u001b[0;36m5\n\u001b[1;32m      <a href='vscode-notebook-cell:/Users/kniu91/Documents/kevins_folders/Projects/nba_dfs/src/analysis.ipynb#W1sZmlsZQ%3D%3D?line=1'>2</a>\u001b[0m year_end \u001b[39m=\u001b[39m \u001b[39m2023\u001b[39m\n\u001b[1;32m      <a href='vscode-notebook-cell:/Users/kniu91/Documents/kevins_folders/Projects/nba_dfs/src/analysis.ipynb#W1sZmlsZQ%3D%3D?line=2'>3</a>\u001b[0m target_years \u001b[39m=\u001b[39m \u001b[39mset\u001b[39m(\u001b[39mrange\u001b[39m(year_start, year_end\u001b[39m+\u001b[39m\u001b[39m1\u001b[39m))\n\u001b[0;32m----> <a href='vscode-notebook-cell:/Users/kniu91/Documents/kevins_folders/Projects/nba_dfs/src/analysis.ipynb#W1sZmlsZQ%3D%3D?line=4'>5</a>\u001b[0m frames \u001b[39m=\u001b[39m loadFrames(target_years)\n\u001b[1;32m      <a href='vscode-notebook-cell:/Users/kniu91/Documents/kevins_folders/Projects/nba_dfs/src/analysis.ipynb#W1sZmlsZQ%3D%3D?line=5'>6</a>\u001b[0m frames[\u001b[39m'\u001b[39m\u001b[39mdfs\u001b[39m\u001b[39m'\u001b[39m], frames[\u001b[39m'\u001b[39m\u001b[39mref\u001b[39m\u001b[39m'\u001b[39m] \u001b[39m=\u001b[39m standardizeNames(frames[\u001b[39m'\u001b[39m\u001b[39mdfs\u001b[39m\u001b[39m'\u001b[39m], frames[\u001b[39m'\u001b[39m\u001b[39mref\u001b[39m\u001b[39m'\u001b[39m])\n\u001b[1;32m      <a href='vscode-notebook-cell:/Users/kniu91/Documents/kevins_folders/Projects/nba_dfs/src/analysis.ipynb#W1sZmlsZQ%3D%3D?line=7'>8</a>\u001b[0m \u001b[39m# Export lookup table helpers if they don't exist\u001b[39;00m\n",
      "\u001b[0;31mNameError\u001b[0m: name 'loadFrames' is not defined"
     ]
    }
   ],
   "source": [
    "year_start = 2022\n",
    "year_end = 2023\n",
    "target_years = set(range(year_start, year_end+1))\n",
    "\n",
    "frames = loadFrames(target_years)\n",
    "frames['dfs'], frames['ref'] = standardizeNames(frames['dfs'], frames['ref'])\n",
    "\n",
    "# Export lookup table helpers if they don't exist\n",
    "exportLookupHelpers(frames)\n",
    "\n",
    "bigFrame = finalizeCombinedSet(frames)"
   ]
  },
  {
   "cell_type": "code",
   "execution_count": null,
   "metadata": {},
   "outputs": [],
   "source": []
  }
 ],
 "metadata": {
  "kernelspec": {
   "display_name": "fftool_conda",
   "language": "python",
   "name": "python3"
  },
  "language_info": {
   "codemirror_mode": {
    "name": "ipython",
    "version": 3
   },
   "file_extension": ".py",
   "mimetype": "text/x-python",
   "name": "python",
   "nbconvert_exporter": "python",
   "pygments_lexer": "ipython3",
   "version": "3.11.4"
  }
 },
 "nbformat": 4,
 "nbformat_minor": 2
}
